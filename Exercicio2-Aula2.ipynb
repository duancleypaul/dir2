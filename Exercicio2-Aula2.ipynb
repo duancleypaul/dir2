{
 "cells": [
  {
   "cell_type": "markdown",
   "metadata": {
    "slideshow": {
     "slide_type": "slide"
    }
   },
   "source": [
    "![foto-capa](Downloads/capa.png \"Python para Data Science\")\n",
    "\n",
    "# Python para Data Science"
   ]
  },
  {
   "cell_type": "markdown",
   "metadata": {
    "slideshow": {
     "slide_type": "slide"
    }
   },
   "source": [
    "#### Objetivo:\n",
    "\n",
    "Aprender as ferramentas mais utilizadas do python para manipular dados provenientes de diferentes fontes, bem como para gerenciar transformações de dados. Nesse módulo será visto o modelo de programação baseado em Grafos e uma ferramenta muito utilizada para aprendizagem de máquina chamada *Tensorflow* que é baseada no modelo de programação em grafos."
   ]
  },
  {
   "cell_type": "markdown",
   "metadata": {
    "slideshow": {
     "slide_type": "slide"
    }
   },
   "source": [
    "#### Tópicos:\n",
    "\n",
    "* APIs para Manipulação de dados:\n",
    "    * Numpy\n",
    "    * Pandas\n",
    "    * Scikit-learn\n",
    "    * Seaborn\n",
    "* DataFrame\n",
    "    * Consultas\n",
    "    * Indexar e carregar dados\n",
    "    * Combinando Dataframes\n",
    "    * Usando cláusula group by\n",
    "    * Escalas\n",
    "    * Tabelas Dinâmicas\n",
    "* Modelo de programação baseado em Grafos\n",
    "    * Tensorflow\n",
    "        * Graphs\n",
    "        * Sessions\n",
    "        * Tipos de Dados\n",
    "        * Operadores\n",
    "        * Tensor Arrays"
   ]
  },
  {
   "cell_type": "markdown",
   "metadata": {
    "slideshow": {
     "slide_type": "slide"
    }
   },
   "source": [
    "#### Duração:\n",
    "\n",
    "* Aula Teórica Presencial: 2 Semana (8h). Dois encontros de 4 horas.\n",
    "* Projetos individuais da disciplina: 64 h\n",
    "\n",
    "#### Audiência:\n",
    "\n",
    "Estudantes Graduados em Ciência da Computação ou áreas correlatas."
   ]
  },
  {
   "cell_type": "markdown",
   "metadata": {
    "slideshow": {
     "slide_type": "slide"
    }
   },
   "source": [
    "#### Bibliografia:\n",
    "\n",
    "Raschka, S., Mirjalili, V., 04. Python machine learning: machine learning and deep learning with Python, scikit-learn, and TensorFlow, 2nd ed, Expert insight. Packt Publishing, Birmingham Mumbai.\n",
    "\n",
    "Vanderplas, J.T., 2016. Python data science handbook: essential tools for working with data, First edition. ed. O’Reilly Media, Inc, Sebastopol, CA.\n",
    "\n",
    "Géron, A., 2017. Hands-on machine learning with Scikit-Learn and TensorFlow : concepts, tools, and techniques to build intelligent systems. O’Reilly Media, Sebastopol, CA.\n",
    "\n",
    "Hope, T., Resheff, Y.S., Lieder, I., 2017. Learning TensorFlow: A Guide to Building Deep Learning Systems, 1st ed. O’Reilly Media, Sebastopol, CA."
   ]
  }
 ],
 "metadata": {
  "celltoolbar": "Slideshow",
  "kernelspec": {
   "display_name": "Python [conda env:aula2] *",
   "language": "python",
   "name": "conda-env-aula2-py"
  },
  "language_info": {
   "codemirror_mode": {
    "name": "ipython",
    "version": 3
   },
   "file_extension": ".py",
   "mimetype": "text/x-python",
   "name": "python",
   "nbconvert_exporter": "python",
   "pygments_lexer": "ipython3",
   "version": "3.7.4"
  }
 },
 "nbformat": 4,
 "nbformat_minor": 2
}
