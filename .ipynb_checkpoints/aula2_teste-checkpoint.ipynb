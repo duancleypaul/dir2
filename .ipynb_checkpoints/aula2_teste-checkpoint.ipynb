{
 "cells": [
  {
   "cell_type": "markdown",
   "metadata": {
    "slideshow": {
     "slide_type": "slide"
    }
   },
   "source": [
    "# TOP10 Perolas by Dilma Rousseff\n",
    "\n",
    "## #deixeaMetaAberta"
   ]
  },
  {
   "cell_type": "markdown",
   "metadata": {
    "slideshow": {
     "slide_type": "slide"
    }
   },
   "source": [
    "## 1\n",
    "![https://images-na.ssl-images-amazon.com/images/I/41pjFXqMjdL.jpg](img/41pjFXqMjdL.jpg)"
   ]
  },
  {
   "cell_type": "markdown",
   "metadata": {
    "slideshow": {
     "slide_type": "slide"
    }
   },
   "source": [
    "## 2\n",
    "![http://defendaseudinheiro.com.br/wp-content/uploads/2015/10/perolas-da-presidenta-dilma.jpg](img/perolas-da-presidenta-dilma.jpg)"
   ]
  },
  {
   "cell_type": "markdown",
   "metadata": {
    "slideshow": {
     "slide_type": "slide"
    }
   },
   "source": [
    "## 3\n",
    "![https://piaui.folha.uol.com.br/lupa/wp-content/uploads/2019/03/Dilma1-post.png](img/Dilma1-post.png)"
   ]
  },
  {
   "cell_type": "markdown",
   "metadata": {
    "slideshow": {
     "slide_type": "slide"
    }
   },
   "source": [
    "## 4\n",
    "![https://i.ytimg.com/vi/ggugJaHQAzs/maxresdefault.jpg](img/maxresdefault.jpg)\n"
   ]
  },
  {
   "cell_type": "markdown",
   "metadata": {
    "slideshow": {
     "slide_type": "slide"
    }
   },
   "source": [
    "\n",
    "## 5\n",
    "![https://cdn.pensador.com/img/frase/di/lm/dilma_rousseff_eu_vi_voce_veja_eu_ja_vi_parei_de_ver_vo_l5lyn3q.jpg](img/dilma_rousseff_eu_vi_voce_veja_eu_ja_vi_parei_de_ver_vo_l5lyn3q.jpg)"
   ]
  },
  {
   "cell_type": "markdown",
   "metadata": {
    "slideshow": {
     "slide_type": "slide"
    }
   },
   "source": [
    "## 6\n",
    "![https://www.bahianoticias.com.br/fotos/justica_noticias/55800/IMAGEM_NOTICIA_5.jpg](img/IMAGEM_NOTICIA_5.jpg)"
   ]
  },
  {
   "cell_type": "markdown",
   "metadata": {
    "slideshow": {
     "slide_type": "slide"
    }
   },
   "source": [
    "## 7\n",
    "![http://cdn.atl.clicrbs.com.br/wp-content/uploads/sites/23/2015/08/dilma-frases-engra%C3%A7adas-7.jpg](img/dilma-frases-engraçadas-7.jpg)"
   ]
  },
  {
   "cell_type": "markdown",
   "metadata": {
    "slideshow": {
     "slide_type": "slide"
    }
   },
   "source": [
    "## 8\n",
    "![http://cdn.atl.clicrbs.com.br/wp-content/uploads/sites/23/2015/08/dilma-frases-engra%C3%A7adas-10.jpg](img/dilma-frases-engraçadas-10.jpg)"
   ]
  },
  {
   "cell_type": "markdown",
   "metadata": {
    "slideshow": {
     "slide_type": "slide"
    }
   },
   "source": [
    "## 9\n",
    "![https://cdn.pensador.com/img/frase/di/lm/dilma_rousseff_nao_acho_que_quem_ganhar_ou_quem_perder_lqlgvpd.jpg](img/dilma_rousseff_nao_acho_que_quem_ganhar_ou_quem_perder_lqlgvpd.jpg)"
   ]
  },
  {
   "cell_type": "markdown",
   "metadata": {
    "slideshow": {
     "slide_type": "slide"
    }
   },
   "source": [
    "## 10\n",
    "![https://pbs.twimg.com/media/B2XbsJKIQAEPSS9.png](img/B2XbsJKIQAEPSS9.png)"
   ]
  }
 ],
 "metadata": {
  "celltoolbar": "Slideshow",
  "kernelspec": {
   "display_name": "Python 3",
   "language": "python",
   "name": "python3"
  },
  "language_info": {
   "codemirror_mode": {
    "name": "ipython",
    "version": 3
   },
   "file_extension": ".py",
   "mimetype": "text/x-python",
   "name": "python",
   "nbconvert_exporter": "python",
   "pygments_lexer": "ipython3",
   "version": "3.7.4"
  }
 },
 "nbformat": 4,
 "nbformat_minor": 2
}
