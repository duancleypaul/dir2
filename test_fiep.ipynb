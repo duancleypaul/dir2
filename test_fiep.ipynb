{
 "cells": [
  {
   "cell_type": "markdown",
   "metadata": {
    "slideshow": {
     "slide_type": "slide"
    }
   },
   "source": [
    "# TOP Ten Slides\n",
    "### internet"
   ]
  },
  {
   "cell_type": "markdown",
   "metadata": {
    "slideshow": {
     "slide_type": "subslide"
    }
   },
   "source": [
    "![top1](http://thejjreport.com/wp-content/uploads/2019/04/ccelebritiesfotoPlanet-Earth-640x431.jpg)"
   ]
  },
  {
   "cell_type": "markdown",
   "metadata": {
    "slideshow": {
     "slide_type": "subslide"
    }
   },
   "source": [
    "![teste1](img_forest.jpg)"
   ]
  },
  {
   "cell_type": "code",
   "execution_count": null,
   "metadata": {
    "slideshow": {
     "slide_type": "subslide"
    }
   },
   "outputs": [],
   "source": [
    "![top3](https://images.pexels.com/photos/67636/rose-blue-flower-rose-blooms-67636.jpeg?auto=compress&cs=tinysrgb&dpr=1&w=500)"
   ]
  },
  {
   "cell_type": "code",
   "execution_count": null,
   "metadata": {
    "slideshow": {
     "slide_type": "subslide"
    }
   },
   "outputs": [],
   "source": [
    "![top4](https://cdn.pixabay.com/photo/2015/09/09/16/05/forest-931706_960_720.jpg)"
   ]
  },
  {
   "cell_type": "code",
   "execution_count": null,
   "metadata": {
    "slideshow": {
     "slide_type": "subslide"
    }
   },
   "outputs": [],
   "source": [
    "![top5](https://cdn.pixabay.com/photo/2014/09/07/22/17/forest-438432_960_720.jpg)"
   ]
  },
  {
   "cell_type": "code",
   "execution_count": null,
   "metadata": {
    "slideshow": {
     "slide_type": "subslide"
    }
   },
   "outputs": [],
   "source": [
    "![top6](https://zdnet3.cbsistatic.com/hub/i/2019/09/05/24725ccd-696a-440c-921c-99ec46e017c8/6a6b97cae3c3a94b6b657928442823fb/romain-vignes-ywqa9izb-du-unsplash.jpg)"
   ]
  },
  {
   "cell_type": "code",
   "execution_count": null,
   "metadata": {
    "slideshow": {
     "slide_type": "subslide"
    }
   },
   "outputs": [],
   "source": [
    "![top7](https://images.pexels.com/photos/459225/pexels-photo-459225.jpeg?auto=compress&cs=tinysrgb&dpr=2&h=650&w=940)"
   ]
  },
  {
   "cell_type": "code",
   "execution_count": null,
   "metadata": {
    "slideshow": {
     "slide_type": "subslide"
    }
   },
   "outputs": [],
   "source": [
    "![top8](https://cdn.pixabay.com/photo/2018/05/28/22/11/message-in-a-bottle-3437294_960_720.jpg)"
   ]
  },
  {
   "cell_type": "code",
   "execution_count": null,
   "metadata": {
    "slideshow": {
     "slide_type": "subslide"
    }
   },
   "outputs": [],
   "source": [
    "![top9](https://i.all3dp.com/cdn-cgi/image/fit=cover,w=1284,h=722,gravity=0.5x0.5,format=auto/wp-content/uploads/2018/12/28144052/background-images-can-come-in-handy-when-modeling-tian-ooi-all3dp-181228.jpg)"
   ]
  },
  {
   "cell_type": "code",
   "execution_count": null,
   "metadata": {
    "slideshow": {
     "slide_type": "subslide"
    }
   },
   "outputs": [],
   "source": [
    "![top10](https://www.w3schools.com/howto/img_forest.jpg)"
   ]
  },
  {
   "cell_type": "code",
   "execution_count": 6,
   "metadata": {
    "slideshow": {
     "slide_type": "subslide"
    }
   },
   "outputs": [
    {
     "name": "stdout",
     "output_type": "stream",
     "text": [
      "/bin/sh: 1: Syntax error: word unexpected (expecting \")\")\r\n"
     ]
    }
   ],
   "source": [
    "![top1](http://thejjreport.com/wp-content/uploads/2019/04/ccelebritiesfotoPlanet-Earth-640x431.jpg)\n",
    "![top2](https://images.unsplash.com/photo-1541233349642-6e425fe6190e?ixlib=rb-1.2.1&ixid=eyJhcHBfaWQiOjEyMDd9&auto=format&fit=crop&w=675&q=80)\n",
    "![top3](https://images.pexels.com/photos/67636/rose-blue-flower-rose-blooms-67636.jpeg?auto=compress&cs=tinysrgb&dpr=1&w=500)\n",
    "![top4](https://cdn.pixabay.com/photo/2015/09/09/16/05/forest-931706_960_720.jpg)\n",
    "![top5](https://cdn.pixabay.com/photo/2014/09/07/22/17/forest-438432_960_720.jpg)\n",
    "![top6](https://zdnet3.cbsistatic.com/hub/i/2019/09/05/24725ccd-696a-440c-921c-99ec46e017c8/6a6b\n",
    "![top7](https://images.pexels.com/photos/459225/pexels-photo-459225.jpeg?auto=compress&cs=tinysrgb&dpr=2&h=650&w=940)\n",
    "![top8](https://cdn.pixabay.com/photo/2018/05/28/22/11/message-in-a-bottle-3437294_960_720.jpg)\n",
    "![top9](https://i.all3dp.com/cdn-cgi/image/fit=cover,w=1284,h=722,gravity=0.5x0.5,format=auto/wp-content/uploads/2018/12/28144052/background-images-can-come-in-handy-when-modeling-tian-ooi-all3dp-181228.jpg)\n",
    "![top10](https://www.w3schools.com/howto/img_forest.jpg)"
   ]
  },
  {
   "cell_type": "code",
   "execution_count": 8,
   "metadata": {
    "slideshow": {
     "slide_type": "subslide"
    }
   },
   "outputs": [
    {
     "name": "stdout",
     "output_type": "stream",
     "text": [
      "--2019-10-03 16:48:24--  http://thejjreport.com/wp-content/uploads/2019/04/ccelebritiesfotoPlanet-Earth-640x431.jpg\n",
      "Resolvendo thejjreport.com (thejjreport.com)... 2606:4700:30::681f:4437, 2606:4700:30::681f:4537, 104.31.69.55, ...\n",
      "Conectando-se a thejjreport.com (thejjreport.com)|2606:4700:30::681f:4437|:80... conectado.\n",
      "A requisição HTTP foi enviada, aguardando resposta... 200 OK\n",
      "Tamanho: 64103 (63K) [image/jpeg]\n",
      "Salvando em: “ccelebritiesfotoPlanet-Earth-640x431.jpg”\n",
      "\n",
      "ccelebritiesfotoPla 100%[===================>]  62,60K  --.-KB/s    em 0,01s   \n",
      "\n",
      "2019-10-03 16:48:24 (6,17 MB/s) - “ccelebritiesfotoPlanet-Earth-640x431.jpg” salvo [64103/64103]\n",
      "\n"
     ]
    }
   ],
   "source": [
    "!wget http://thejjreport.com/wp-content/uploads/2019/04/ccelebritiesfotoPlanet-Earth-640x431.jpg"
   ]
  }
 ],
 "metadata": {
  "celltoolbar": "Slideshow",
  "kernelspec": {
   "display_name": "Python 3",
   "language": "python",
   "name": "python3"
  },
  "language_info": {
   "codemirror_mode": {
    "name": "ipython",
    "version": 3
   },
   "file_extension": ".py",
   "mimetype": "text/x-python",
   "name": "python",
   "nbconvert_exporter": "python",
   "pygments_lexer": "ipython3",
   "version": "3.7.4"
  }
 },
 "nbformat": 4,
 "nbformat_minor": 2
}
